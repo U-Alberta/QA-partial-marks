{
 "cells": [
  {
   "cell_type": "code",
   "execution_count": 5,
   "metadata": {},
   "outputs": [],
   "source": [
    "import pandas as pd"
   ]
  },
  {
   "cell_type": "code",
   "execution_count": 6,
   "metadata": {},
   "outputs": [],
   "source": [
    "llama_df = pd.read_json('learned-NQ-test-nli-predicted.jsonl', lines=True)\n",
    "llama_df['system_judge'] = llama_df['system_judge'].astype(int)\n",
    "nli_df = pd.read_json('../data/NQ-nli-gpt35.json')"
   ]
  },
  {
   "cell_type": "code",
   "execution_count": 7,
   "metadata": {},
   "outputs": [],
   "source": [
    "# only keep rows where qid is in llamda_df\n",
    "nli_df = nli_df[nli_df['qid'].isin(llama_df['qid'])]"
   ]
  },
  {
   "cell_type": "code",
   "execution_count": 8,
   "metadata": {},
   "outputs": [
    {
     "name": "stdout",
     "output_type": "stream",
     "text": [
      "Precision: 0.9791\n",
      "Recall: 0.9191\n",
      "F1: 0.9482\n",
      "Accuracy: 0.9261\n",
      "\n",
      "Precision: 0.9123\n",
      "Recall: 0.9580\n",
      "F1: 0.9346\n",
      "Accuracy: 0.9015\n"
     ]
    }
   ],
   "source": [
    "def eval_df(df):\n",
    "    tp = df[(df['system_judge'] == 1) & (df['golden_judge'] == 1)].shape[0]\n",
    "    fp = df[(df['system_judge'] == 1) & (df['golden_judge'] == 0)].shape[0]\n",
    "    tn = df[(df['system_judge'] == 0) & (df['golden_judge'] == 0)].shape[0]\n",
    "    fn = df[(df['system_judge'] == 0) & (df['golden_judge'] == 1)].shape[0]\n",
    "\n",
    "    precision = tp / (tp + fp)\n",
    "    recall = tp / (tp + fn)\n",
    "    f1 = 2 * (precision * recall) / (precision + recall)\n",
    "    acc = (tp + tn) / (tp + tn + fp + fn)\n",
    "    print(f'Precision: {precision:.4f}')\n",
    "    print(f'Recall: {recall:.4f}')\n",
    "    print(f'F1: {f1:.4f}')\n",
    "    print(f'Accuracy: {acc:.4f}')\n",
    "\n",
    "eval_df(llama_df)\n",
    "print()\n",
    "eval_df(nli_df)"
   ]
  },
  {
   "cell_type": "code",
   "execution_count": null,
   "metadata": {},
   "outputs": [],
   "source": []
  },
  {
   "cell_type": "code",
   "execution_count": null,
   "metadata": {},
   "outputs": [],
   "source": []
  }
 ],
 "metadata": {
  "kernelspec": {
   "display_name": "base",
   "language": "python",
   "name": "python3"
  },
  "language_info": {
   "codemirror_mode": {
    "name": "ipython",
    "version": 3
   },
   "file_extension": ".py",
   "mimetype": "text/x-python",
   "name": "python",
   "nbconvert_exporter": "python",
   "pygments_lexer": "ipython3",
   "version": "3.9.12"
  }
 },
 "nbformat": 4,
 "nbformat_minor": 2
}
