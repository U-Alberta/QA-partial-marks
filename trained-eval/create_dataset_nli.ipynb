{
 "cells": [
  {
   "cell_type": "code",
   "execution_count": 4,
   "metadata": {},
   "outputs": [],
   "source": [
    "import pandas as pd\n",
    "from datasets import Dataset"
   ]
  },
  {
   "cell_type": "code",
   "execution_count": 6,
   "metadata": {},
   "outputs": [],
   "source": [
    "df = pd.read_json('../data/NQ-nli-gpt35.json')\n",
    "train_df = pd.read_json('learned-NQ-train.jsonl', orient='records', lines=True)\n",
    "test_df = pd.read_json('learned-NQ-test.jsonl', orient='records', lines=True)"
   ]
  },
  {
   "cell_type": "code",
   "execution_count": 7,
   "metadata": {},
   "outputs": [],
   "source": [
    "df.set_index(['qid', 'system'], inplace=True)"
   ]
  },
  {
   "cell_type": "code",
   "execution_count": 8,
   "metadata": {},
   "outputs": [],
   "source": [
    "nli_df = df"
   ]
  },
  {
   "cell_type": "code",
   "execution_count": 9,
   "metadata": {},
   "outputs": [],
   "source": [
    "# next, convert train_df to llama finetune format\n",
    "template = \"\"\"<s>[INST] Here is a question, a set of golden answers (split with /), an AI-generated answer.\n",
    "Can you judge whether the AI-generated answer is correct according to the question and golden answers, simply answer Yes or No.\n",
    "\n",
    "Question: {question}\n",
    "\n",
    "Golden answers: {golden_answer}\n",
    "\n",
    "AI answer: {system}\n",
    "\n",
    "Can golden answers be inferred from AI answer: {a2astar}\n",
    "\n",
    "Can AI answer be inferred from golden answers: {astar2a}\n",
    "[/INST] {assistant_text} </s>\"\"\"\n",
    "\n",
    "def gen_item(df):\n",
    "    for i, row in df.iterrows():\n",
    "        item = row.to_dict()\n",
    "        try:\n",
    "            nli = nli_df.loc[int(row['qid']), row['system']]\n",
    "            a2astar = nli['a2astar'].lower()\n",
    "            astar2a = nli['astar2a'].lower()\n",
    "        except KeyError:\n",
    "            print(\"unk\")\n",
    "            a2astar = 'unknown'\n",
    "            astar2a = 'unknown'\n",
    "        text = template.format(\n",
    "            question=item['question'],\n",
    "            golden_answer=item['golden_answer'],\n",
    "            system=item['system_answer'],\n",
    "            a2astar=a2astar,\n",
    "            astar2a=astar2a,\n",
    "            assistant_text='Yes' if item['golden_judge'] == 1 else 'No',\n",
    "        )\n",
    "        yield {'text': text}\n"
   ]
  },
  {
   "cell_type": "code",
   "execution_count": 10,
   "metadata": {},
   "outputs": [
    {
     "data": {
      "application/vnd.jupyter.widget-view+json": {
       "model_id": "fe74842143af4b97a119826cd12cdf47",
       "version_major": 2,
       "version_minor": 0
      },
      "text/plain": [
       "Generating train split: 0 examples [00:00, ? examples/s]"
      ]
     },
     "metadata": {},
     "output_type": "display_data"
    },
    {
     "name": "stdout",
     "output_type": "stream",
     "text": [
      "unk\n",
      "unk\n",
      "unk\n",
      "unk\n",
      "unk\n",
      "unk\n",
      "unk\n",
      "unk\n",
      "unk\n",
      "unk\n",
      "unk\n",
      "unk\n",
      "unk\n",
      "unk\n",
      "unk\n",
      "unk\n",
      "unk\n",
      "unk\n",
      "unk\n",
      "unk\n",
      "unk\n",
      "unk\n",
      "unk\n",
      "unk\n",
      "unk\n",
      "unk\n"
     ]
    }
   ],
   "source": [
    "dataset = Dataset.from_generator(gen_item, gen_kwargs={'df': train_df})"
   ]
  },
  {
   "cell_type": "code",
   "execution_count": 26,
   "metadata": {},
   "outputs": [
    {
     "data": {
      "application/vnd.jupyter.widget-view+json": {
       "model_id": "b9f7bcac73f94591a382461cd549ec86",
       "version_major": 2,
       "version_minor": 0
      },
      "text/plain": [
       "Saving the dataset (0/1 shards):   0%|          | 0/7550 [00:00<?, ? examples/s]"
      ]
     },
     "metadata": {},
     "output_type": "display_data"
    }
   ],
   "source": [
    "dataset.save_to_disk('llama-nli-NQ-train')"
   ]
  },
  {
   "cell_type": "code",
   "execution_count": null,
   "metadata": {},
   "outputs": [],
   "source": []
  }
 ],
 "metadata": {
  "kernelspec": {
   "display_name": "base",
   "language": "python",
   "name": "python3"
  },
  "language_info": {
   "codemirror_mode": {
    "name": "ipython",
    "version": 3
   },
   "file_extension": ".py",
   "mimetype": "text/x-python",
   "name": "python",
   "nbconvert_exporter": "python",
   "pygments_lexer": "ipython3",
   "version": "3.12.1"
  }
 },
 "nbformat": 4,
 "nbformat_minor": 2
}
