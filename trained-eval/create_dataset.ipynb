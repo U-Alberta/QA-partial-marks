{
 "cells": [
  {
   "cell_type": "code",
   "execution_count": 1,
   "metadata": {},
   "outputs": [],
   "source": [
    "import pandas as pd\n",
    "from datasets import Dataset"
   ]
  },
  {
   "cell_type": "code",
   "execution_count": 2,
   "metadata": {},
   "outputs": [],
   "source": [
    "df = pd.read_csv('../obsolete/nq-entail.tsv', sep='\\t').drop(columns=['Unnamed: 0'])\n",
    "df = df[['qid', 'question', 'golden_answer', 'system', 'system_answer', 'golden_judge']]"
   ]
  },
  {
   "cell_type": "code",
   "execution_count": 3,
   "metadata": {},
   "outputs": [],
   "source": [
    "unique_qids = pd.Series(df['qid'].unique())"
   ]
  },
  {
   "cell_type": "code",
   "execution_count": 4,
   "metadata": {},
   "outputs": [],
   "source": [
    "sampled_qids = unique_qids.sample(frac=0.5, random_state=42)"
   ]
  },
  {
   "cell_type": "code",
   "execution_count": 5,
   "metadata": {},
   "outputs": [],
   "source": [
    "train_df = df[df['qid'].isin(sampled_qids)]\n",
    "test_df = df[~df['qid'].isin(sampled_qids)]"
   ]
  },
  {
   "cell_type": "code",
   "execution_count": 6,
   "metadata": {},
   "outputs": [],
   "source": [
    "train_df.to_json('learned-NQ-train.jsonl', orient='records', lines=True)\n",
    "test_df.to_json('learned-NQ-test.jsonl', orient='records', lines=True)"
   ]
  },
  {
   "cell_type": "code",
   "execution_count": 11,
   "metadata": {},
   "outputs": [],
   "source": [
    "# next, convert train_df to llama finetune format\n",
    "template = \"\"\"<s>[INST] Here is a question, a set of golden answers (split with /), an AI-generated answer.\n",
    "Can you judge whether the AI-generated answer is correct according to the question and golden answers, simply answer Yes or No.\n",
    "\n",
    "Question: {question}\n",
    "\n",
    "Golden answers: {golden_answer}\n",
    "\n",
    "AI answer: {system}\n",
    "[/INST] {assistant_text} </s>\"\"\"\n",
    "\n",
    "def gen_item(df):\n",
    "    for i, row in df.iterrows():\n",
    "        item = row.to_dict()\n",
    "        text = template.format(\n",
    "            question=item['question'],\n",
    "            golden_answer=item['golden_answer'],\n",
    "            system=item['system_answer'],\n",
    "            assistant_text='Yes' if item['golden_judge'] == 1 else 'No',\n",
    "        )\n",
    "        yield {'text': text}\n"
   ]
  },
  {
   "cell_type": "code",
   "execution_count": 12,
   "metadata": {},
   "outputs": [
    {
     "data": {
      "application/vnd.jupyter.widget-view+json": {
       "model_id": "460c15bf171a440194dca00c8b5acca0",
       "version_major": 2,
       "version_minor": 0
      },
      "text/plain": [
       "Generating train split: 0 examples [00:00, ? examples/s]"
      ]
     },
     "metadata": {},
     "output_type": "display_data"
    }
   ],
   "source": [
    "dataset = Dataset.from_generator(gen_item, gen_kwargs={'df': train_df})"
   ]
  },
  {
   "cell_type": "code",
   "execution_count": 13,
   "metadata": {},
   "outputs": [
    {
     "data": {
      "application/vnd.jupyter.widget-view+json": {
       "model_id": "bc62fb8d4dff4390b5f8c0fe929caeb8",
       "version_major": 2,
       "version_minor": 0
      },
      "text/plain": [
       "Saving the dataset (0/1 shards):   0%|          | 0/7550 [00:00<?, ? examples/s]"
      ]
     },
     "metadata": {},
     "output_type": "display_data"
    }
   ],
   "source": [
    "dataset.save_to_disk('llama-finetune-NQ-train')"
   ]
  },
  {
   "cell_type": "code",
   "execution_count": null,
   "metadata": {},
   "outputs": [],
   "source": []
  }
 ],
 "metadata": {
  "kernelspec": {
   "display_name": "base",
   "language": "python",
   "name": "python3"
  },
  "language_info": {
   "codemirror_mode": {
    "name": "ipython",
    "version": 3
   },
   "file_extension": ".py",
   "mimetype": "text/x-python",
   "name": "python",
   "nbconvert_exporter": "python",
   "pygments_lexer": "ipython3",
   "version": "3.9.12"
  }
 },
 "nbformat": 4,
 "nbformat_minor": 2
}
