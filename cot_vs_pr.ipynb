{
 "cells": [
  {
   "cell_type": "code",
   "execution_count": 1,
   "metadata": {},
   "outputs": [],
   "source": [
    "import json\n",
    "import numpy as np\n",
    "from sklearn import metrics\n",
    "import matplotlib.pyplot as plt\n",
    "import pandas as pd\n",
    "import seaborn as sns\n",
    "import re\n",
    "from scipy.stats import mannwhitneyu, brunnermunzel"
   ]
  },
  {
   "cell_type": "code",
   "execution_count": 34,
   "metadata": {},
   "outputs": [
    {
     "name": "stdout",
     "output_type": "stream",
     "text": [
      "15045\n"
     ]
    }
   ],
   "source": [
    "data = []\n",
    "with open('data/NQ-baselinescore-gpt35.json') as f:\n",
    "    data = json.load(f)\n",
    "    #for line in f:\n",
    "    #    data.append(json.loads(line))\n",
    "# Ainf - Asup\n",
    "#data = [x for x in data if x['ainf'] == 1 or x['asup'] == 1]\n",
    "y_true = [x['golden_judge'] for x in data]\n",
    "print(len(y_true))"
   ]
  },
  {
   "cell_type": "code",
   "execution_count": 35,
   "metadata": {},
   "outputs": [],
   "source": [
    "def score_chain_info_assum(x):\n",
    "    score = 100000\n",
    "    if x['ainf'] == 0 and x['asup'] == 0:\n",
    "        return -score\n",
    "    if not x['chains']:\n",
    "        return score\n",
    "    for chain in x['chains']:\n",
    "        steps = chain.split('\\n')\n",
    "        chain_score = 10 * len(steps)\n",
    "        for s in steps:\n",
    "            if '[[info]]' in s.lower():\n",
    "                chain_score += 3\n",
    "            if '[[assumption]]' in s.lower() or '(assumption)' in s.lower():\n",
    "                chain_score += 5\n",
    "        if chain_score < score:\n",
    "            score = chain_score\n",
    "        #score += chain_score\n",
    "    score = -score\n",
    "    return score\n",
    "\n",
    "\n",
    "def score_info_assum(x):\n",
    "    score = 100000\n",
    "    if x['ainf'] == 0 and x['asup'] == 0:\n",
    "        return -score\n",
    "    if not x['chains']:\n",
    "        return score\n",
    "    for chain in x['chains']:\n",
    "        steps = chain.split('\\n')\n",
    "        chain_score = 0\n",
    "        for s in steps:\n",
    "            if '[[info]]' in s.lower():\n",
    "                chain_score += 3\n",
    "            if '[[assumption]]' in s.lower() or '(assumption)' in s.lower():\n",
    "                chain_score += 5\n",
    "        if chain_score < score:\n",
    "            score = chain_score\n",
    "        #score += chain_score\n",
    "    score = -score\n",
    "    return score\n",
    "\n",
    "\n",
    "def score_chain_only(x):\n",
    "    score = 100000\n",
    "    if x['ainf'] == 0 and x['asup'] == 0:\n",
    "        return -score\n",
    "    if not x['chains']:\n",
    "        return score\n",
    "    for chain in x['chains']:\n",
    "        steps = chain.split('\\n')\n",
    "        chain_score = 10 * len(steps)\n",
    "        if chain_score < score:\n",
    "            score = chain_score\n",
    "        #score += chain_score\n",
    "    score = -score\n",
    "    return score\n",
    "\n",
    "def score_gpt35(x):\n",
    "    if x['asup'] == 0 and x['ainf'] == 0:\n",
    "        return -6\n",
    "    if not x['scores']:\n",
    "        return 0\n",
    "    for score in x['scores']:\n",
    "        # use regex to find integers in the string\n",
    "        score = re.findall(r'\\d+', score)\n",
    "        if score:\n",
    "            score = int(score[0])\n",
    "            if score < 1 or score > 5:\n",
    "                return -3\n",
    "            return -score\n",
    "    return -3\n",
    "\n",
    "def score_baseline(x):\n",
    "    if x['asup'] == 0 and x['ainf'] == 0:\n",
    "        return -6\n",
    "    if str(x['baseline_score']) == \"-1\":\n",
    "        return 0\n",
    "    text = x['baseline_score']\n",
    "    for sc in range(1, 6):\n",
    "        if str(sc) in text:\n",
    "            return -sc\n",
    "    else:\n",
    "        return -3"
   ]
  },
  {
   "cell_type": "code",
   "execution_count": 37,
   "metadata": {},
   "outputs": [
    {
     "name": "stdout",
     "output_type": "stream",
     "text": [
      "0.8827224333166754\n"
     ]
    }
   ],
   "source": [
    "#y_scores_1 = [score_chain_info_assum(x) for x in data]\n",
    "#y_scores_2 = [score_chain_only(x) for x in data]\n",
    "#y_scores_3 = [score_info_assum(x) for x in data]\n",
    "#y_scores_4 = [score_gpt35(x) for x in data]\n",
    "y_scores_5 = [score_baseline(x) for x in data]\n",
    "\n",
    "#print(metrics.roc_auc_score(y_true, y_scores_1))\n",
    "#print(metrics.roc_auc_score(y_true, y_scores_2))\n",
    "#print(metrics.roc_auc_score(y_true, y_scores_3))\n",
    "print(metrics.roc_auc_score(y_true, y_scores_5))\n",
    "\n",
    "#disp = metrics.RocCurveDisplay.from_predictions(y_true, y_scores_1, name='CIA')\n",
    "#disp = metrics.RocCurveDisplay.from_predictions(y_true, y_scores_2, name='C')\n",
    "#disp = metrics.RocCurveDisplay.from_predictions(y_true, y_scores_3, name='gpt35')\n",
    "#disp = metrics.RocCurveDisplay.from_predictions(y_true, y_scores_4, name='baseline')"
   ]
  },
  {
   "cell_type": "code",
   "execution_count": 8,
   "metadata": {},
   "outputs": [],
   "source": [
    "y_scores = y_scores_4\n",
    "plot_df = []\n",
    "for y_score, y_t in zip(y_scores, y_true):\n",
    "    plot_df.append({'score': y_score, 'label': f'y_true={y_t}'})\n",
    "plot_df = pd.DataFrame(plot_df)"
   ]
  },
  {
   "cell_type": "code",
   "execution_count": 12,
   "metadata": {},
   "outputs": [
    {
     "data": {
      "text/plain": [
       "<AxesSubplot:xlabel='score', ylabel='label'>"
      ]
     },
     "execution_count": 12,
     "metadata": {},
     "output_type": "execute_result"
    },
    {
     "data": {
      "image/png": "[encoded data removed]",
      "text/plain": [
       "<Figure size 432x288 with 1 Axes>"
      ]
     },
     "metadata": {
      "needs_background": "light"
     },
     "output_type": "display_data"
    }
   ],
   "source": [
    "sns.stripplot(plot_df, x='score', y='label', jitter=0.2)"
   ]
  },
  {
   "cell_type": "code",
   "execution_count": 9,
   "metadata": {},
   "outputs": [
    {
     "name": "stdout",
     "output_type": "stream",
     "text": [
      "MannwhitneyuResult(statistic=171612.5, pvalue=1.2655979603115993e-31)\n",
      "BrunnerMunzelResult(statistic=-13.035929984057034, pvalue=3.182976347341599e-36)\n"
     ]
    }
   ],
   "source": [
    "y_true_scores = plot_df[plot_df['label'] == 'y_true=1']['score']\n",
    "y_false_scores = plot_df[plot_df['label'] == 'y_true=0']['score']\n",
    "print(mannwhitneyu(y_true_scores, y_false_scores, alternative='greater'))\n",
    "print(brunnermunzel(y_true_scores, y_false_scores, alternative='greater'))"
   ]
  }
 ],
 "metadata": {
  "kernelspec": {
   "display_name": "base",
   "language": "python",
   "name": "python3"
  },
  "language_info": {
   "codemirror_mode": {
    "name": "ipython",
    "version": 3
   },
   "file_extension": ".py",
   "mimetype": "text/x-python",
   "name": "python",
   "nbconvert_exporter": "python",
   "pygments_lexer": "ipython3",
   "version": "3.12.3"
  }
 },
 "nbformat": 4,
 "nbformat_minor": 2
}
