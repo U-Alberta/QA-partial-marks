{
 "cells": [
  {
   "cell_type": "code",
   "execution_count": 2,
   "metadata": {},
   "outputs": [],
   "source": [
    "import pandas as pd\n",
    "from datasets import Dataset"
   ]
  },
  {
   "cell_type": "code",
   "execution_count": 6,
   "metadata": {},
   "outputs": [],
   "source": [
    "full_df = pd.read_json('../data/NQ-qa2s-gpt35.json')\n",
    "train_df = pd.read_json('../trained-eval/learned-NQ-train.jsonl', orient='records', lines=True)\n",
    "test_df = pd.read_json('../trained-eval/learned-NQ-test.jsonl', orient='records', lines=True)\n",
    "\n",
    "full_df.set_index(['qid', 'system'], inplace=True)"
   ]
  },
  {
   "cell_type": "code",
   "execution_count": 7,
   "metadata": {},
   "outputs": [],
   "source": [
    "# next, convert train_df to llama finetune format\n",
    "rationale_template = (\n",
    "    \"<s> [INST] Given the fact: {fact},\\n\"\n",
    "    \"answer this question: {question}\\n\"\n",
    "    \"[/INST] {golden_answer} </s>\"\n",
    ")\n",
    "\n",
    "def gen_item(df):\n",
    "    for i, row in df.iterrows():\n",
    "        item = row.to_dict()\n",
    "        try:\n",
    "            full_row = full_df.loc[(item['qid'], item['system'])]\n",
    "        except KeyError:\n",
    "            continue\n",
    "        text = rationale_template.format(\n",
    "            question=item['question'],\n",
    "            golden_answer=item['golden_answer'].replace('||', ' or '),\n",
    "            fact=full_row['system_statement']\n",
    "        )\n",
    "        yield {'text': text}\n"
   ]
  },
  {
   "cell_type": "code",
   "execution_count": 8,
   "metadata": {},
   "outputs": [
    {
     "data": {
      "application/vnd.jupyter.widget-view+json": {
       "model_id": "acd25b176ea44dea9cce0a7929b26dfb",
       "version_major": 2,
       "version_minor": 0
      },
      "text/plain": [
       "Generating train split: 0 examples [00:00, ? examples/s]"
      ]
     },
     "metadata": {},
     "output_type": "display_data"
    },
    {
     "name": "stdout",
     "output_type": "stream",
     "text": [
      "7550\n"
     ]
    }
   ],
   "source": [
    "dataset = Dataset.from_generator(gen_item, gen_kwargs={'df': train_df})\n",
    "print(len(dataset))"
   ]
  },
  {
   "cell_type": "code",
   "execution_count": 9,
   "metadata": {},
   "outputs": [
    {
     "data": {
      "application/vnd.jupyter.widget-view+json": {
       "model_id": "85521280f4df4a089385f373e42e3f68",
       "version_major": 2,
       "version_minor": 0
      },
      "text/plain": [
       "Saving the dataset (0/1 shards):   0%|          | 0/7550 [00:00<?, ? examples/s]"
      ]
     },
     "metadata": {},
     "output_type": "display_data"
    }
   ],
   "source": [
    "dataset.save_to_disk('rev-train-rationale')"
   ]
  },
  {
   "cell_type": "code",
   "execution_count": 10,
   "metadata": {},
   "outputs": [
    {
     "data": {
      "application/vnd.jupyter.widget-view+json": {
       "model_id": "9f0001f7f4044bdeaa9f252651ca0275",
       "version_major": 2,
       "version_minor": 0
      },
      "text/plain": [
       "Generating train split: 0 examples [00:00, ? examples/s]"
      ]
     },
     "metadata": {},
     "output_type": "display_data"
    },
    {
     "name": "stdout",
     "output_type": "stream",
     "text": [
      "7550\n"
     ]
    },
    {
     "data": {
      "application/vnd.jupyter.widget-view+json": {
       "model_id": "efdd2dcacba74881b64e8675988852a1",
       "version_major": 2,
       "version_minor": 0
      },
      "text/plain": [
       "Saving the dataset (0/1 shards):   0%|          | 0/7550 [00:00<?, ? examples/s]"
      ]
     },
     "metadata": {},
     "output_type": "display_data"
    }
   ],
   "source": [
    "# next, convert train_df to llama finetune format\n",
    "norationale_template = (\n",
    "    \"<s> [INST] Answer this question: {question}\\n\"\n",
    "    \"[/INST] {golden_answer} </s>\"\n",
    ")\n",
    "\n",
    "def gen_item(df):\n",
    "    for i, row in df.iterrows():\n",
    "        item = row.to_dict()\n",
    "        try:\n",
    "            full_row = full_df.loc[(item['qid'], item['system'])]\n",
    "        except KeyError:\n",
    "            continue\n",
    "        text = norationale_template.format(\n",
    "            question=item['question'],\n",
    "            golden_answer=item['golden_answer'].replace('||', ' or '),\n",
    "        )\n",
    "        yield {'text': text}\n",
    "\n",
    "dataset = Dataset.from_generator(gen_item, gen_kwargs={'df': train_df})\n",
    "print(len(dataset))\n",
    "\n",
    "dataset.save_to_disk('rev-train-norationale')"
   ]
  },
  {
   "cell_type": "code",
   "execution_count": null,
   "metadata": {},
   "outputs": [],
   "source": []
  }
 ],
 "metadata": {
  "kernelspec": {
   "display_name": "base",
   "language": "python",
   "name": "python3"
  },
  "language_info": {
   "codemirror_mode": {
    "name": "ipython",
    "version": 3
   },
   "file_extension": ".py",
   "mimetype": "text/x-python",
   "name": "python",
   "nbconvert_exporter": "python",
   "pygments_lexer": "ipython3",
   "version": "3.9.12"
  }
 },
 "nbformat": 4,
 "nbformat_minor": 2
}
